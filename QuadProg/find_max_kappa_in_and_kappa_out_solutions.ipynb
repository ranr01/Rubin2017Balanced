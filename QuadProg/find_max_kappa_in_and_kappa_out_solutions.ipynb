{
 "cells": [
  {
   "cell_type": "code",
   "execution_count": null,
   "metadata": {},
   "outputs": [],
   "source": [
    "from max_kappa import sign_constrained_perceptron_max_kappa_out, \\\n",
    "                      sign_constrained_perceptron_max_kappa_in\n",
    "import numpy as np"
   ]
  },
  {
   "cell_type": "markdown",
   "metadata": {},
   "source": [
    "## Setting up parameters and random patterns"
   ]
  },
  {
   "cell_type": "code",
   "execution_count": null,
   "metadata": {},
   "outputs": [],
   "source": [
    "# distributions for exitatory and inhibitory input patterns\n",
    "Pex = lambda size: np.random.exponential(size=size)\n",
    "\n",
    "class Pinh_dist(object):\n",
    "    def __init__(self,A,k,dxbar):\n",
    "        self.A=A\n",
    "        self.k=k\n",
    "        self.dxbar=dxbar\n",
    "    def __call__(self,size):\n",
    "        return self.A*np.random.gamma(self.k,size=size)+self.dxbar\n",
    "\n",
    "#parameters\n",
    "N = 500\n",
    "f_out = 0.1\n",
    "g_ex = 0.8\n",
    "alpha = 1.\n",
    "k = 1.\n",
    "dxbar = .0\n",
    "A = 2.\n",
    "\n",
    "\n",
    "# distribution for inhibitory patterns\n",
    "Pinh = Pinh_dist(A,k,dxbar)\n",
    "\n",
    "\n",
    "P=int(alpha*N)\n",
    "N_ex=int(g_ex*N)\n",
    "N_inh=N-N_ex\n",
    "\n",
    "# generating random patterns\n",
    "X_ex=Pex(size=(N_ex,P))\n",
    "X_inh=Pinh(size=(N_inh,P))\n",
    "X=np.vstack((X_ex,X_inh))\n",
    "\n",
    "# generating random labels\n",
    "y=2.*((np.random.rand(P,1)<f_out).astype(np.float))-1.\n",
    "    \n",
    "# generating sign of weights\n",
    "g=np.ones((N,1))\n",
    "g[N_ex:]=-1."
   ]
  },
  {
   "cell_type": "markdown",
   "metadata": {},
   "source": [
    "# Finding max $\\kappa_\\mathrm{in}$ solution"
   ]
  },
  {
   "cell_type": "code",
   "execution_count": null,
   "metadata": {},
   "outputs": [],
   "source": [
    "simulation_func =  sign_constrained_perceptron_max_kappa_in\n",
    "\n",
    "#uncomment to suppress output of CVXOPT\n",
    "#cvxopt.solvers.options['show_progress']=False\n",
    "w,theta,tau,sol,converged_to_solution = simulation_func(X,y,g)\n",
    "#cvxopt.solvers.options['show_progress']=True\n",
    "\n",
    "w_in = w / theta\n",
    "print('Max kappa_in converged = {}, kappa_in={}, kappa_out={}'.format(\\\n",
    "                converged_to_solution,1./np.linalg.norm(w),1./theta))"
   ]
  },
  {
   "cell_type": "markdown",
   "metadata": {},
   "source": [
    "# Finding Max $\\kappa_\\mathrm{out}$ soluiton"
   ]
  },
  {
   "cell_type": "code",
   "execution_count": null,
   "metadata": {},
   "outputs": [],
   "source": [
    "simulation_func =  sign_constrained_perceptron_max_kappa_out\n",
    "#uncomment to suppress output of CVXOPT\n",
    "#cvxopt.solvers.options['show_progress']=False\n",
    "w,theta,tau,sol,converged_to_solution = simulation_func(X,y,g)\n",
    "#cvxopt.solvers.options['show_progress']=True\n",
    "\n",
    "w_out = w / theta\n",
    "print('Max kappa_out converged = {}, kappa_in={}, kappa_out={}'.format(\\\n",
    "                converged_to_solution,1./np.linalg.norm(w),1./theta))\n",
    "    "
   ]
  },
  {
   "cell_type": "code",
   "execution_count": null,
   "metadata": {},
   "outputs": [],
   "source": []
  }
 ],
 "metadata": {
  "kernelspec": {
   "display_name": "Python 3",
   "language": "python",
   "name": "python3"
  },
  "language_info": {
   "codemirror_mode": {
    "name": "ipython",
    "version": 3
   },
   "file_extension": ".py",
   "mimetype": "text/x-python",
   "name": "python",
   "nbconvert_exporter": "python",
   "pygments_lexer": "ipython3",
   "version": "3.5.3"
  }
 },
 "nbformat": 4,
 "nbformat_minor": 2
}
