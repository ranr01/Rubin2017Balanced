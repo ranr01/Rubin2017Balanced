{
 "cells": [
  {
   "cell_type": "code",
   "execution_count": 1,
   "metadata": {
    "collapsed": false
   },
   "outputs": [
    {
     "name": "stdout",
     "output_type": "stream",
     "text": [
      "Populating the interactive namespace from numpy and matplotlib\n"
     ]
    }
   ],
   "source": [
    "%pylab nbagg"
   ]
  },
  {
   "cell_type": "code",
   "execution_count": 2,
   "metadata": {
    "collapsed": true
   },
   "outputs": [],
   "source": [
    "from critical_solutions import get_OP_kappa_in,\\\n",
    "                               get_OP_kappa_out_balanced,\\\n",
    "                               get_OP_kappa_out_unbalanced,\\\n",
    "                               get_alpha_c_and_alpha_b,\\\n",
    "                               B_star\n",
    "    \n",
    "import numpy as np\n",
    "from numpy import *"
   ]
  },
  {
   "cell_type": "markdown",
   "metadata": {},
   "source": [
    "# Capacity\n",
    "\n",
    "See \"SI Capacity and balanced capacity\""
   ]
  },
  {
   "cell_type": "code",
   "execution_count": null,
   "metadata": {
    "collapsed": true
   },
   "outputs": [],
   "source": [
    "phi=1./sqrt(2)\n",
    "llambda=2.\n",
    "p_out=0.1\n",
    "f_exc=arange(0.0,1.001,0.01)\n",
    "\n",
    "#equations can't be solved numerically as is at limits so analitical result is added manually\n",
    "ac,ab=zip(*([(0,0)]+[get_alpha_c_and_alpha_b(p_out,f,phi) for f in f_exc[1:-1]]+[(1.,0.)]))\n",
    "alpha_c=array(ac)\n",
    "alpha_b=array(ab)\n",
    "alpha_c[-1]=alpha_c[-2]"
   ]
  },
  {
   "cell_type": "code",
   "execution_count": null,
   "metadata": {
    "collapsed": false
   },
   "outputs": [],
   "source": [
    "# Figure 2A\n",
    "close()\n",
    "\n",
    "plot(f_exc,alpha_c)\n",
    "plot(f_exc,alpha_b,'--')"
   ]
  },
  {
   "cell_type": "markdown",
   "metadata": {},
   "source": [
    "# Maximal $\\kappa_\\mathrm{out}$ solutions"
   ]
  },
  {
   "cell_type": "code",
   "execution_count": null,
   "metadata": {
    "collapsed": true
   },
   "outputs": [],
   "source": [
    "f_exc = 0.8\n",
    "Gamma = 1.0\n",
    "phi = sqrt(2)\n",
    "llambda = 2.\n",
    "p_out = 0.1\n",
    "N = 2000\n",
    "\n",
    "def get_op_as_dict():\n",
    "    kappa_out=arange(0.001,5.,0.04)\n",
    "    # OP for balamced solutions (alpha<alpha_b)\n",
    "    Q,Delta,C,theta_tidle,B,alpha=get_OP_kappa_out_balanced(kappa_out,Gamma,p_out,f_exc,phi,llambda)\n",
    "\n",
    "    # B=B0 at alpha_b and B=0 at alpha_c\n",
    "    B0=B_star(f_exc,phi)\n",
    "    Bub=arange(1e-4,B0,B0/100.)\n",
    "\n",
    "    # OP for unbalanced solutions (alpha_b<alpha<alpha_c)\n",
    "    Qub,Deltaub,Cub,theta_tidleub,kappaub,alphaub =\\\n",
    "        get_OP_kappa_out_unbalanced(Bub,p_out,f_exc,phi,llambda)\n",
    "    \n",
    "    # alpha_c and alpha_b\n",
    "    alpha_c,alpha_b = get_alpha_c_and_alpha_b(p_out,f_exc,phi)\n",
    "    \n",
    "    # OP at alpha_b \n",
    "    Q0,Delta0,C0,theta_tidle0,kappa_0,a0 = \\\n",
    "     get_OP_kappa_out_unbalanced(B0,p_out,f_exc,phi,llambda)\n",
    "    return locals()\n",
    "\n",
    "OP_max_kappa_out = get_op_as_dict()"
   ]
  },
  {
   "cell_type": "markdown",
   "metadata": {},
   "source": [
    "# Maximal $\\kappa_\\mathrm{in}$ solutions"
   ]
  },
  {
   "cell_type": "code",
   "execution_count": null,
   "metadata": {
    "collapsed": true
   },
   "outputs": [],
   "source": [
    "f_exc = 0.8\n",
    "Gamma = 1.0\n",
    "phi = sqrt(2)\n",
    "llambda = 2.\n",
    "p_out = 0.1\n",
    "N = 2000\n",
    "\n",
    "def get_op_as_dict():\n",
    "    kappa_in=arange(0.001,2.,0.02)\n",
    "    Q,Delta,C,theta_tilde,B,alpha=get_OP_kappa_in(kappa_in,p_out,f_exc,phi,llambda)\n",
    "    alpha_c,alpha_b=get_alpha_c_and_alpha_b(p_out,f_exc,phi)\n",
    "    del alpha_b\n",
    "    return locals()\n",
    "\n",
    "OP_max_kappa_in=get_op_as_dict()"
   ]
  },
  {
   "cell_type": "code",
   "execution_count": null,
   "metadata": {
    "collapsed": false
   },
   "outputs": [],
   "source": [
    "# Theory in Figure 3 \n",
    "close()\n",
    "\n",
    "subplot(311)\n",
    "plot(OP_max_kappa_out['alpha'],OP_max_kappa_out['kappa_out'])\n",
    "axvline(OP_max_kappa_out['alpha_b'],color='r',ls='--')\n",
    "axvline(OP_max_kappa_out['alpha_c'],ls='--')\n",
    "ylim(0)\n",
    "xlim(0)\n",
    "\n",
    "subplot(312)\n",
    "plot(OP_max_kappa_out['alphaub'],OP_max_kappa_out['kappaub'])\n",
    "axvline(OP_max_kappa_out['alpha_b'],color='r',ls='--')\n",
    "axvline(OP_max_kappa_out['alpha_c'],ls='--')\n",
    "scatter([OP_max_kappa_out['a0']],[OP_max_kappa_out['kappa_0']])\n",
    "ylim(0)\n",
    "xlim(0.9*OP_max_kappa_out['alpha_b'])\n",
    "\n",
    "subplot(313)\n",
    "plot(OP_max_kappa_in['alpha'],OP_max_kappa_in['kappa_in'])\n",
    "axvline(OP_max_kappa_out['alpha_b'],color='r',ls='--')\n",
    "axvline(OP_max_kappa_in['alpha_c'],ls='--')\n",
    "ylim(0)\n",
    "xlim(0)\n",
    "\n",
    "tight_layout()\n"
   ]
  }
 ],
 "metadata": {
  "kernelspec": {
   "display_name": "Python 3",
   "language": "python",
   "name": "python3"
  },
  "language_info": {
   "codemirror_mode": {
    "name": "ipython",
    "version": 3
   },
   "file_extension": ".py",
   "mimetype": "text/x-python",
   "name": "python",
   "nbconvert_exporter": "python",
   "pygments_lexer": "ipython3",
   "version": "3.5.3"
  }
 },
 "nbformat": 4,
 "nbformat_minor": 2
}
